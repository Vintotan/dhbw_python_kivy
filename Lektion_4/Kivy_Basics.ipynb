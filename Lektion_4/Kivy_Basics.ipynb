{
 "cells": [
  {
   "cell_type": "markdown",
   "metadata": {},
   "source": [
    "# Grundlagen"
   ]
  },
  {
   "cell_type": "markdown",
   "metadata": {},
   "source": [
    "Eine `Kivy`-App besteht im Wesentlichen aus drei Elementen:\n",
    "- Unterklassifizierung der Klasse `App`\n",
    "- `build()`-Methode implementieren, sodass eine Widget-Instanz zurückgegeben wird\n",
    "- Instanziierung dieser Klasse und Aufruf der `run()`-Methode"
   ]
  },
  {
   "cell_type": "markdown",
   "metadata": {},
   "source": [
    "## Python-Module herunterladen"
   ]
  },
  {
   "cell_type": "markdown",
   "metadata": {},
   "source": [
    "#### Installation: Windows"
   ]
  },
  {
   "cell_type": "code",
   "execution_count": null,
   "metadata": {},
   "outputs": [],
   "source": [
    "! pip install --upgrade pip wheel setuptools\n",
    "! pip install docutils pygments pypiwin32 kivy-deps.sdl2 kivy-deps.glew \n",
    "! pip install kivy-deps.gstreamer \n",
    "! pip install kivy-deps.angle \n",
    "! pip install –-upgrade kivy"
   ]
  },
  {
   "cell_type": "markdown",
   "metadata": {},
   "source": [
    "#### Installation: OS X"
   ]
  },
  {
   "cell_type": "code",
   "execution_count": null,
   "metadata": {},
   "outputs": [],
   "source": [
    "! python -m pip install kivy"
   ]
  },
  {
   "cell_type": "markdown",
   "metadata": {},
   "source": [
    "## Beispiel\n",
    "Minimale `Kivy`-Anwendung"
   ]
  },
  {
   "cell_type": "code",
   "execution_count": 1,
   "metadata": {},
   "outputs": [
    {
     "name": "stderr",
     "output_type": "stream",
     "text": [
      "[INFO   ] [Logger      ] Record log in /Users/tinvotan/.kivy/logs/kivy_20-10-18_4.txt\n",
      "[INFO   ] [Kivy        ] v1.11.1\n",
      "[INFO   ] [Kivy        ] Installed at \"/Users/tinvotan/.virtualenvs/kivy_test-nyXpAqGo/lib/python3.7/site-packages/kivy/__init__.py\"\n",
      "[INFO   ] [Python      ] v3.7.6 (default, Jul 14 2020, 09:52:49) \n",
      "[Clang 11.0.3 (clang-1103.0.32.62)]\n",
      "[INFO   ] [Python      ] Interpreter at \"/Users/tinvotan/.virtualenvs/kivy_test-nyXpAqGo/bin/python\"\n",
      "[INFO   ] [Factory     ] 184 symbols loaded\n",
      "[INFO   ] [Image       ] Providers: img_tex, img_imageio, img_dds, img_sdl2, img_gif (img_pil, img_ffpyplayer ignored)\n",
      "[INFO   ] [Text        ] Provider: sdl2\n",
      "[INFO   ] [Window      ] Provider: sdl2\n",
      "[INFO   ] [GL          ] Using the \"OpenGL ES 2\" graphics system\n",
      "[INFO   ] [GL          ] Backend used <sdl2>\n",
      "[INFO   ] [GL          ] OpenGL version <b'2.1 INTEL-14.7.8'>\n",
      "[INFO   ] [GL          ] OpenGL vendor <b'Intel Inc.'>\n",
      "[INFO   ] [GL          ] OpenGL renderer <b'Intel(R) Iris(TM) Plus Graphics OpenGL Engine'>\n",
      "[INFO   ] [GL          ] OpenGL parsed version: 2, 1\n",
      "[INFO   ] [GL          ] Shading version <b'1.20'>\n",
      "[INFO   ] [GL          ] Texture max size <16384>\n",
      "[INFO   ] [GL          ] Texture max units <16>\n",
      "[INFO   ] [Window      ] auto add sdl2 input provider\n",
      "[INFO   ] [Window      ] virtual keyboard not allowed, single mode, not docked\n",
      "[INFO   ] [Base        ] Start application main loop\n",
      "[INFO   ] [GL          ] NPOT texture support is available\n",
      "[INFO   ] [Base        ] Leaving application in progress...\n",
      "[INFO   ] [WindowSDL   ] exiting mainloop and closing.\n"
     ]
    }
   ],
   "source": [
    "import kivy\n",
    "from kivy.app import App\n",
    "from kivy.uix.label import Label\n",
    "\n",
    "\n",
    "class MyApp(App):\n",
    "    \n",
    "    def build(self):\n",
    "        return Label(text='Hello world!')\n",
    "    \n",
    "\n",
    "if __name__ == '__main__':\n",
    "    MyApp().run()"
   ]
  },
  {
   "cell_type": "markdown",
   "metadata": {},
   "source": [
    "---"
   ]
  },
  {
   "cell_type": "markdown",
   "metadata": {},
   "source": [
    "## Erläuterungen"
   ]
  },
  {
   "cell_type": "markdown",
   "metadata": {},
   "source": [
    "### Import / Laden der Module"
   ]
  },
  {
   "cell_type": "code",
   "execution_count": null,
   "metadata": {},
   "outputs": [],
   "source": [
    "from kivy.app import App"
   ]
  },
  {
   "cell_type": "markdown",
   "metadata": {},
   "source": [
    "Die Basisklasse der App muss von der Klasse `App` aus `Kivy` erben."
   ]
  },
  {
   "cell_type": "code",
   "execution_count": null,
   "metadata": {},
   "outputs": [],
   "source": [
    "from kivy.uix.label import Label"
   ]
  },
  {
   "cell_type": "markdown",
   "metadata": {},
   "source": [
    "**Pakete und Klassen** sind in `Kivy` in Unterordnern angelegt. So befindeen sich beispielsweise die Elemente der Benutzerschnittstelle (auch User Interaction and Experience aka. UIX) wie __Layouts und Widgets__ im Modul `uix`."
   ]
  },
  {
   "cell_type": "markdown",
   "metadata": {},
   "source": [
    "### Klassen definieren / Widgets hinzufügen"
   ]
  },
  {
   "cell_type": "code",
   "execution_count": null,
   "metadata": {},
   "outputs": [],
   "source": [
    "class MyApp(App):"
   ]
  },
  {
   "cell_type": "markdown",
   "metadata": {},
   "source": [
    "Hier wird die Basisklasse der Kivy-App definiert. \n",
    "> Die Basisklasse muss von der Klasse `App` aus dem Modul `kivy.app` erben. Folglich ist `App` die ***Oberklasse*** und `MyApp` die ***Unterklasse***."
   ]
  },
  {
   "cell_type": "code",
   "execution_count": null,
   "metadata": {},
   "outputs": [],
   "source": [
    "    def build(self):\n",
    "        return Label(text='Hello world!')"
   ]
  },
  {
   "cell_type": "markdown",
   "metadata": {},
   "source": [
    "Mithilfe der `build()`-Funktion wird das `Root Widget` initiiert und wiedergegeben. In diesem Beispiel wird auf die Klasse `Label` aus dem `kivy.uix.label` zurückgegriffen und ein Objekt erzeugt. Der Klasse `Label` wird der Parameter `text='Hello world!'` übergeben und mit `return` das Objekt aus der Methode `build()`.\n"
   ]
  },
  {
   "cell_type": "code",
   "execution_count": null,
   "metadata": {},
   "outputs": [],
   "source": [
    "if __name__ == '__main__':\n",
    "    MyApp().run()"
   ]
  },
  {
   "cell_type": "markdown",
   "metadata": {},
   "source": [
    "Der Code `if __name__ == '__main__':` ist als Kontrollstruktur (eng. ***Execution Control***, siehe [www.realpython.com](https://realpython.com/python-main-function/#use-if-__name__-__main__-to-control-the-execution-of-your-code)) bekannt. Eine Python-Datei hat in der Regel zwei Zwecke, entweder:\n",
    "- es handelt sich um ein eigenständiges Programm, was ablaufen soll (z.B. wenn in der Konsole `python first_kivy_app.py` getätigt wird) oder\n",
    "- es handelt sich um eine Ansammlung von Funktionen, Klassen oder Konstanten auf die zurückgegriffen werden soll (z.B. wenn mithilfe von `from kivy.app import App` die vordefinierte Klasse `App` importiert werden soll).\n",
    "\n",
    "Durch die Verwendung von `if __name__ == '__main__':` müssen nicht zwei Dateien angelegt werden, sondern können durch eine einzige Python-Datei bedient werden.\n",
    "\n",
    "Der Aufruf von `MyApp()` erzeugt das Objekt aus der Unterklasse `MyApp`, welche von der Oberklasse `App` alle Methoden, Klassenvariablen usw. erbt. Mithilfe der Methode `run()`, die eine Methode der Oberklasse `App` darstellt wird die `Kivy`-App gestartet."
   ]
  },
  {
   "cell_type": "markdown",
   "metadata": {},
   "source": [
    "### Ausführen der `Kivy`-App"
   ]
  },
  {
   "cell_type": "code",
   "execution_count": null,
   "metadata": {},
   "outputs": [],
   "source": [
    "! python first_kivy_app.py"
   ]
  },
  {
   "cell_type": "markdown",
   "metadata": {},
   "source": [
    "Die `Kivy`-App kann mittels des Befehls im Terminal ausgeführt werden."
   ]
  },
  {
   "cell_type": "markdown",
   "metadata": {},
   "source": [
    "---"
   ]
  },
  {
   "cell_type": "markdown",
   "metadata": {},
   "source": [
    "# Weitere `Kivy`-Module"
   ]
  },
  {
   "cell_type": "code",
   "execution_count": null,
   "metadata": {},
   "outputs": [],
   "source": [
    "! python -m pip install kivy-garden\n",
    "! python -m pip install ffpyplayer\n",
    "! python -m pip install kivymd"
   ]
  },
  {
   "cell_type": "code",
   "execution_count": null,
   "metadata": {},
   "outputs": [],
   "source": []
  },
  {
   "cell_type": "code",
   "execution_count": null,
   "metadata": {},
   "outputs": [],
   "source": []
  }
 ],
 "metadata": {
  "kernelspec": {
   "display_name": "Python 3",
   "language": "python",
   "name": "python3"
  },
  "language_info": {
   "codemirror_mode": {
    "name": "ipython",
    "version": 3
   },
   "file_extension": ".py",
   "mimetype": "text/x-python",
   "name": "python",
   "nbconvert_exporter": "python",
   "pygments_lexer": "ipython3",
   "version": "3.7.6"
  }
 },
 "nbformat": 4,
 "nbformat_minor": 4
}
